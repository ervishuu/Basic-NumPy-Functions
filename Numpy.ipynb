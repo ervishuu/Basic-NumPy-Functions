{
  "nbformat": 4,
  "nbformat_minor": 0,
  "metadata": {
    "colab": {
      "name": "Numpy.ipynb",
      "provenance": [],
      "collapsed_sections": [
        "0ZZOfkLRbvPz",
        "9bRDCoVhc7Qz",
        "G0k-17ptdcaK",
        "R2fypGTF9ZiT"
      ]
    },
    "kernelspec": {
      "name": "python3",
      "display_name": "Python 3"
    },
    "language_info": {
      "name": "python"
    }
  },
  "cells": [
    {
      "cell_type": "markdown",
      "metadata": {
        "id": "VXoPERGJZifd"
      },
      "source": [
        "#@Vishvanath Metkari"
      ]
    },
    {
      "cell_type": "markdown",
      "metadata": {
        "id": "0ZZOfkLRbvPz"
      },
      "source": [
        "##What is NumPy?\n",
        "NumPy is a Python library used for working with arrays.\n",
        "\n",
        "It is the fundamental package for scientific computing with Python. It contains various features \n",
        "\n",
        "It also has functions for working in domain of linear algebra, fourier transform, and matrices.\n",
        "\n",
        "NumPy stands for Numerical Python.\n",
        "\n",
        "\n"
      ]
    },
    {
      "cell_type": "markdown",
      "metadata": {
        "id": "9bRDCoVhc7Qz"
      },
      "source": [
        "##Why is NumPy Faster Than Lists?\n",
        "NumPy arrays are stored at one continuous place in memory unlike lists, so processes can access and manipulate them very efficiently.\n",
        "\n",
        "\n",
        "##Which Language is NumPy written in?\n",
        "NumPy is a Python library and is written partially in Python, but most of the parts that require fast computation are written in C or C++.\n",
        "2005"
      ]
    },
    {
      "cell_type": "markdown",
      "metadata": {
        "id": "S4X_hW7icILb"
      },
      "source": [
        "## Installation:\n"
      ]
    },
    {
      "cell_type": "code",
      "metadata": {
        "colab": {
          "base_uri": "https://localhost:8080/"
        },
        "id": "XfswEUFraUcH",
        "outputId": "b8356369-0521-4559-ec64-2c0a22937007"
      },
      "source": [
        "pip install numpy"
      ],
      "execution_count": 138,
      "outputs": [
        {
          "output_type": "stream",
          "name": "stdout",
          "text": [
            "Requirement already satisfied: numpy in /usr/local/lib/python3.7/dist-packages (1.19.5)\n"
          ]
        }
      ]
    },
    {
      "cell_type": "markdown",
      "metadata": {
        "id": "1xCYZTEwdQzo"
      },
      "source": [
        "first we need to import NumPy library:"
      ]
    },
    {
      "cell_type": "code",
      "metadata": {
        "id": "8lJW09wKcPTS"
      },
      "source": [
        "import numpy as np"
      ],
      "execution_count": 139,
      "outputs": []
    },
    {
      "cell_type": "markdown",
      "metadata": {
        "id": "G0k-17ptdcaK"
      },
      "source": [
        "\n",
        "##1D vs **2D** Array\n",
        "1D array (i.e., single dimensional array) stores a list of variables of the same data type. It is possible to access each variable using the index.\n",
        "\n",
        "2D array (i.e, multi-dimensional array) stores data in a format consisting of rows and columns."
      ]
    },
    {
      "cell_type": "markdown",
      "metadata": {
        "id": "pkC4qywKdt2x"
      },
      "source": [
        "##Create a Vector\n",
        "To create a vector, we simply create a one-dimensional array. Just like vectors, these arrays can be represented horizontally (i.e., rows) or vertically (i.e., columns)."
      ]
    },
    {
      "cell_type": "code",
      "metadata": {
        "colab": {
          "base_uri": "https://localhost:8080/"
        },
        "id": "_cmfvD-tdVdq",
        "outputId": "aadb70be-6396-4ec7-cc97-0eef5f8c793a"
      },
      "source": [
        "#create 1 dimentional array (vector)\n",
        "vector_row = np.array([1,2,3,4,5,6]) #create vector as a row\n",
        "vector_row"
      ],
      "execution_count": 3,
      "outputs": [
        {
          "output_type": "execute_result",
          "data": {
            "text/plain": [
              "array([1, 2, 3, 4, 5, 6])"
            ]
          },
          "metadata": {},
          "execution_count": 3
        }
      ]
    },
    {
      "cell_type": "code",
      "metadata": {
        "colab": {
          "base_uri": "https://localhost:8080/"
        },
        "id": "RY5oI5G1eFe-",
        "outputId": "a838bb7e-d689-4da9-90b7-e2bf0a51e737"
      },
      "source": [
        "vector_col = np.array([[1],[2],[3]])\n",
        "vector_col"
      ],
      "execution_count": 4,
      "outputs": [
        {
          "output_type": "execute_result",
          "data": {
            "text/plain": [
              "array([[1],\n",
              "       [2],\n",
              "       [3]])"
            ]
          },
          "metadata": {},
          "execution_count": 4
        }
      ]
    },
    {
      "cell_type": "code",
      "metadata": {
        "colab": {
          "base_uri": "https://localhost:8080/"
        },
        "id": "KeyFQ3pXaBQ9",
        "outputId": "7d7e8347-b3c5-4769-eaff-2a88b30904f6"
      },
      "source": [
        "vector_col.shape"
      ],
      "execution_count": 141,
      "outputs": [
        {
          "output_type": "execute_result",
          "data": {
            "text/plain": [
              "(3, 1)"
            ]
          },
          "metadata": {},
          "execution_count": 141
        }
      ]
    },
    {
      "cell_type": "markdown",
      "metadata": {
        "id": "_B34CJBCeuBK"
      },
      "source": [
        "#Create a Matrix\n",
        "the matrix contain three row and two columns"
      ]
    },
    {
      "cell_type": "code",
      "metadata": {
        "colab": {
          "base_uri": "https://localhost:8080/"
        },
        "id": "0LIPvbuYecxq",
        "outputId": "f8726442-4e5d-4099-94f0-857d713159c2"
      },
      "source": [
        "matrix = np.array([(1,2,3),(4,5,6)]) # Two dimensional array\n",
        "matrix"
      ],
      "execution_count": 5,
      "outputs": [
        {
          "output_type": "execute_result",
          "data": {
            "text/plain": [
              "array([[1, 2, 3],\n",
              "       [4, 5, 6]])"
            ]
          },
          "metadata": {},
          "execution_count": 5
        }
      ]
    },
    {
      "cell_type": "markdown",
      "metadata": {
        "id": "2h1MwPZlfk88"
      },
      "source": [
        "##Creating a Sparse Matrix\n",
        "A sparse matrix is a matrix in which most of the elements are zero. Sparse matrices only store nonzero elements and assume all other values will be zero"
      ]
    },
    {
      "cell_type": "code",
      "metadata": {
        "colab": {
          "base_uri": "https://localhost:8080/"
        },
        "id": "beWJk0JEe-Ev",
        "outputId": "43d738f6-1e02-4a0d-e780-bf70d57803e3"
      },
      "source": [
        "from scipy import sparse\n",
        "\n",
        "matrix_large = np.array([[0, 0, 0, 0, 0, 0, 0, 6, 0, 0],\n",
        "                         [0, 1, 0, 2, 0, 0, 0, 0, 0, 0],\n",
        "                         [3, 0, 0, 0, 0, 0, 0, 0, 0, 0]])\n",
        "matrix_large"
      ],
      "execution_count": 6,
      "outputs": [
        {
          "output_type": "execute_result",
          "data": {
            "text/plain": [
              "array([[0, 0, 0, 0, 0, 0, 0, 6, 0, 0],\n",
              "       [0, 1, 0, 2, 0, 0, 0, 0, 0, 0],\n",
              "       [3, 0, 0, 0, 0, 0, 0, 0, 0, 0]])"
            ]
          },
          "metadata": {},
          "execution_count": 6
        }
      ]
    },
    {
      "cell_type": "code",
      "metadata": {
        "colab": {
          "base_uri": "https://localhost:8080/"
        },
        "id": "ixKXYXYPf7zZ",
        "outputId": "a539f9a8-5a27-4b45-89b3-839f19641cd2"
      },
      "source": [
        "# Create compressed sparse row (CSR) matrix\n",
        "matrix_large_sparse = sparse.csr_matrix(matrix_large)\n",
        "print(matrix_large_sparse)"
      ],
      "execution_count": 7,
      "outputs": [
        {
          "output_type": "stream",
          "name": "stdout",
          "text": [
            "  (0, 7)\t6\n",
            "  (1, 1)\t1\n",
            "  (1, 3)\t2\n",
            "  (2, 0)\t3\n"
          ]
        }
      ]
    },
    {
      "cell_type": "markdown",
      "metadata": {
        "id": "cJwWpW95gUKz"
      },
      "source": [
        "##Create Special Ndarray"
      ]
    },
    {
      "cell_type": "markdown",
      "metadata": {
        "id": "Sl9NJ4xAgYef"
      },
      "source": [
        "np.zeros() function returns a new array of given shape and type, filled with zero"
      ]
    },
    {
      "cell_type": "code",
      "metadata": {
        "colab": {
          "base_uri": "https://localhost:8080/"
        },
        "id": "_3RgnQtHgKbu",
        "outputId": "f84cc114-41c1-4008-f1e2-5c81a0d9029d"
      },
      "source": [
        "#create 1d array of zeros , length 3\n",
        "np.zeros(3)"
      ],
      "execution_count": 8,
      "outputs": [
        {
          "output_type": "execute_result",
          "data": {
            "text/plain": [
              "array([0., 0., 0.])"
            ]
          },
          "metadata": {},
          "execution_count": 8
        }
      ]
    },
    {
      "cell_type": "code",
      "metadata": {
        "colab": {
          "base_uri": "https://localhost:8080/"
        },
        "id": "J7evPJjtghFl",
        "outputId": "33a3271e-db63-4d3b-e0a1-b6cc2a5e4905"
      },
      "source": [
        "# 2x3 array of zeros\n",
        "np.zeros([2,3])"
      ],
      "execution_count": 9,
      "outputs": [
        {
          "output_type": "execute_result",
          "data": {
            "text/plain": [
              "array([[0., 0., 0.],\n",
              "       [0., 0., 0.]])"
            ]
          },
          "metadata": {},
          "execution_count": 9
        }
      ]
    },
    {
      "cell_type": "markdown",
      "metadata": {
        "id": "eDHaLOrsg5az"
      },
      "source": [
        "np.ones() function returns a new array of given shape and type, filled with one"
      ]
    },
    {
      "cell_type": "code",
      "metadata": {
        "colab": {
          "base_uri": "https://localhost:8080/"
        },
        "id": "QYMfD3ZFgtUO",
        "outputId": "7857641a-5d37-4429-bb85-ef33bfb77190"
      },
      "source": [
        "#create 3x4 array of onces\n",
        "np.ones((3,4))"
      ],
      "execution_count": 10,
      "outputs": [
        {
          "output_type": "execute_result",
          "data": {
            "text/plain": [
              "array([[1., 1., 1., 1.],\n",
              "       [1., 1., 1., 1.],\n",
              "       [1., 1., 1., 1.]])"
            ]
          },
          "metadata": {},
          "execution_count": 10
        }
      ]
    },
    {
      "cell_type": "markdown",
      "metadata": {
        "id": "Jk0UlN7KhPMw"
      },
      "source": [
        "np.eye() function returns a matrix having 1’s on the diagonal and 0’s elsewhere"
      ]
    },
    {
      "cell_type": "code",
      "metadata": {
        "colab": {
          "base_uri": "https://localhost:8080/"
        },
        "id": "u-BnAY6thGS0",
        "outputId": "7912d63d-9493-4969-f6e6-5036ed06ad81"
      },
      "source": [
        "# Create 5x5 array of 0 with 1 on diagonal (Identity matrix)\n",
        "np.eye(5)"
      ],
      "execution_count": 11,
      "outputs": [
        {
          "output_type": "execute_result",
          "data": {
            "text/plain": [
              "array([[1., 0., 0., 0., 0.],\n",
              "       [0., 1., 0., 0., 0.],\n",
              "       [0., 0., 1., 0., 0.],\n",
              "       [0., 0., 0., 1., 0.],\n",
              "       [0., 0., 0., 0., 1.]])"
            ]
          },
          "metadata": {},
          "execution_count": 11
        }
      ]
    },
    {
      "cell_type": "markdown",
      "metadata": {
        "id": "N8lYsN6ChuCe"
      },
      "source": [
        "np.linspace() function returns an evenly spaced sequence in a specified interval"
      ]
    },
    {
      "cell_type": "code",
      "metadata": {
        "colab": {
          "base_uri": "https://localhost:8080/"
        },
        "id": "eVMbaGXRhXK7",
        "outputId": "34b28247-1ada-4294-fa20-0e96e74cd2eb"
      },
      "source": [
        "# Create an array of 5 evenly divided values from 0 to 10\n",
        "np.linspace(0,10,5)"
      ],
      "execution_count": 12,
      "outputs": [
        {
          "output_type": "execute_result",
          "data": {
            "text/plain": [
              "array([ 0. ,  2.5,  5. ,  7.5, 10. ])"
            ]
          },
          "metadata": {},
          "execution_count": 12
        }
      ]
    },
    {
      "cell_type": "markdown",
      "metadata": {
        "id": "IUzyJ-L_7WS5"
      },
      "source": [
        "np.arange(start, stop, step) function returns the ndarray object containing evenly spaced values within the given range.\n",
        "\n",
        "The parameters determine the range of values:\n",
        "\n",
        "start :defines the first value in the array.\n",
        "\n",
        "stop :defines the end of the array and isn’t included in the array.\n",
        "\n",
        "step: is the number that defines the spacing (difference) between every two consecutive values in the array and defaults to 1"
      ]
    },
    {
      "cell_type": "code",
      "metadata": {
        "id": "SPjPQB09hjDb",
        "colab": {
          "base_uri": "https://localhost:8080/"
        },
        "outputId": "7d1aa12b-6b32-41ef-bbb4-09e0637d739f"
      },
      "source": [
        "# array values from 0 to less than with step 3\n",
        "np.arange(0,10,3)"
      ],
      "execution_count": 13,
      "outputs": [
        {
          "output_type": "execute_result",
          "data": {
            "text/plain": [
              "array([0, 3, 6, 9])"
            ]
          },
          "metadata": {},
          "execution_count": 13
        }
      ]
    },
    {
      "cell_type": "markdown",
      "metadata": {
        "id": "n9QWvjxY8BL7"
      },
      "source": [
        "np.full(shape, fill_value) function returns a new array of a specified shape, fills with fill_value."
      ]
    },
    {
      "cell_type": "code",
      "metadata": {
        "colab": {
          "base_uri": "https://localhost:8080/"
        },
        "id": "xnW3kPGN7uUR",
        "outputId": "b163a81b-432f-45cf-a04c-322507b08887"
      },
      "source": [
        "#2x3 array with all values 5\n",
        "np.full( (2,3),5)"
      ],
      "execution_count": 14,
      "outputs": [
        {
          "output_type": "execute_result",
          "data": {
            "text/plain": [
              "array([[5, 5, 5],\n",
              "       [5, 5, 5]])"
            ]
          },
          "metadata": {},
          "execution_count": 14
        }
      ]
    },
    {
      "cell_type": "markdown",
      "metadata": {
        "id": "I2mrQibK8SSj"
      },
      "source": [
        "np.random.rand() function returns an array of specified shape and fills it with random values"
      ]
    },
    {
      "cell_type": "code",
      "metadata": {
        "colab": {
          "base_uri": "https://localhost:8080/"
        },
        "id": "2P8hbESe8OiI",
        "outputId": "9f35f379-9fad-4295-933b-0f5294fda294"
      },
      "source": [
        "# 2x3 array of random floats between 0 - 1\n",
        "np.random.rand(2,3)"
      ],
      "execution_count": 21,
      "outputs": [
        {
          "output_type": "execute_result",
          "data": {
            "text/plain": [
              "array([[0.43456889, 0.50661655, 0.59645386],\n",
              "       [0.25829419, 0.46621009, 0.96669408]])"
            ]
          },
          "metadata": {},
          "execution_count": 21
        }
      ]
    },
    {
      "cell_type": "code",
      "metadata": {
        "colab": {
          "base_uri": "https://localhost:8080/"
        },
        "id": "B_ruRKtY8mKH",
        "outputId": "412ef3c5-3767-4ca1-8db2-47e704d36f02"
      },
      "source": [
        "# 2x3 array of random floats between 0 - 100\n",
        "np.random.rand(2,3)*100"
      ],
      "execution_count": 22,
      "outputs": [
        {
          "output_type": "execute_result",
          "data": {
            "text/plain": [
              "array([[65.8837749 , 43.58533289, 88.60136092],\n",
              "       [75.20295885, 13.30074575, 24.411814  ]])"
            ]
          },
          "metadata": {},
          "execution_count": 22
        }
      ]
    },
    {
      "cell_type": "code",
      "metadata": {
        "colab": {
          "base_uri": "https://localhost:8080/"
        },
        "id": "MZFLqFFm86JZ",
        "outputId": "1f8350ba-a187-4b7c-9083-41fa8068a8ad"
      },
      "source": [
        "# 2x3 array with random ints between 0-4\n",
        "np.random.randint(0,4,size=(2,3))"
      ],
      "execution_count": 23,
      "outputs": [
        {
          "output_type": "execute_result",
          "data": {
            "text/plain": [
              "array([[2, 3, 3],\n",
              "       [1, 1, 0]])"
            ]
          },
          "metadata": {},
          "execution_count": 23
        }
      ]
    },
    {
      "cell_type": "markdown",
      "metadata": {
        "id": "R2fypGTF9ZiT"
      },
      "source": [
        "## 2. Array shape manipulations"
      ]
    },
    {
      "cell_type": "markdown",
      "metadata": {
        "id": "c6wENNQV9jTR"
      },
      "source": [
        "##Shape \n",
        "it will check the shape and size of the an array\n",
        "\n",
        "Numpy array have an attribute called shape that returs a tuple "
      ]
    },
    {
      "cell_type": "code",
      "metadata": {
        "colab": {
          "base_uri": "https://localhost:8080/"
        },
        "id": "1cHkorLq9NyD",
        "outputId": "110c95b5-ddf6-4170-a34e-f4c0cf217098"
      },
      "source": [
        "arr = np.array([(1,2,3,4),(4,5,6,4),(7,8,9,4)])\n",
        "print(arr)\n",
        "arr.shape #return dimension of arr (row, column)"
      ],
      "execution_count": 30,
      "outputs": [
        {
          "output_type": "stream",
          "name": "stdout",
          "text": [
            "[[1 2 3 4]\n",
            " [4 5 6 4]\n",
            " [7 8 9 4]]\n"
          ]
        },
        {
          "output_type": "execute_result",
          "data": {
            "text/plain": [
              "(3, 4)"
            ]
          },
          "metadata": {},
          "execution_count": 30
        }
      ]
    },
    {
      "cell_type": "markdown",
      "metadata": {
        "id": "f5bNri5OB9jM"
      },
      "source": [
        "reshape() allows us to restructure an array so that we maintain the same data but it is organized as a different number of rows and columns"
      ]
    },
    {
      "cell_type": "markdown",
      "metadata": {
        "id": "94a--NusCAFk"
      },
      "source": [
        "The shape of the original and new matrix contains the same number of elements (i.e, same size)"
      ]
    },
    {
      "cell_type": "code",
      "metadata": {
        "colab": {
          "base_uri": "https://localhost:8080/"
        },
        "id": "C9IYMHVLCrbL",
        "outputId": "3377a2e9-bae2-4047-aa09-9762da4b1700"
      },
      "source": [
        "arr1= np.arange(1,11)\n",
        "arr1"
      ],
      "execution_count": 34,
      "outputs": [
        {
          "output_type": "execute_result",
          "data": {
            "text/plain": [
              "array([ 1,  2,  3,  4,  5,  6,  7,  8,  9, 10])"
            ]
          },
          "metadata": {},
          "execution_count": 34
        }
      ]
    },
    {
      "cell_type": "code",
      "metadata": {
        "colab": {
          "base_uri": "https://localhost:8080/"
        },
        "id": "17Gpoh_sCJBl",
        "outputId": "2cc87d68-a219-4e23-c6db-de74ec88a0dd"
      },
      "source": [
        "print(arr1.shape)"
      ],
      "execution_count": 35,
      "outputs": [
        {
          "output_type": "stream",
          "name": "stdout",
          "text": [
            "(10,)\n"
          ]
        }
      ]
    },
    {
      "cell_type": "markdown",
      "metadata": {
        "id": "fcZAkwb7C08G"
      },
      "source": [
        "We can usereshape() method to reshape our array to a 2 by 5 dimensional array."
      ]
    },
    {
      "cell_type": "code",
      "metadata": {
        "colab": {
          "base_uri": "https://localhost:8080/"
        },
        "id": "V5dbuHqxCcyJ",
        "outputId": "2eca96af-a38f-4551-e659-fed9b16b3b13"
      },
      "source": [
        "arr1_2d = arr1.reshape((2,5))\n",
        "arr1_2d"
      ],
      "execution_count": 36,
      "outputs": [
        {
          "output_type": "execute_result",
          "data": {
            "text/plain": [
              "array([[ 1,  2,  3,  4,  5],\n",
              "       [ 6,  7,  8,  9, 10]])"
            ]
          },
          "metadata": {},
          "execution_count": 36
        }
      ]
    },
    {
      "cell_type": "markdown",
      "metadata": {
        "id": "d5szhr1qDVkH"
      },
      "source": [
        "If we want NumPy to automatically determine what size/length a particular dimension should be, specify the dimension as -1 which effectively means “as many as needed.” For example, reshape(2, -1) means two rows and as many columns as needed."
      ]
    },
    {
      "cell_type": "code",
      "metadata": {
        "colab": {
          "base_uri": "https://localhost:8080/"
        },
        "id": "RMWy5PKhDWh2",
        "outputId": "9255c38a-c20a-429f-acc6-6f51a5e34ec7"
      },
      "source": [
        "arr1.reshape(2,-1)"
      ],
      "execution_count": 40,
      "outputs": [
        {
          "output_type": "execute_result",
          "data": {
            "text/plain": [
              "array([[ 1,  2,  3,  4,  5],\n",
              "       [ 6,  7,  8,  9, 10]])"
            ]
          },
          "metadata": {},
          "execution_count": 40
        }
      ]
    },
    {
      "cell_type": "code",
      "metadata": {
        "colab": {
          "base_uri": "https://localhost:8080/"
        },
        "id": "lok1-cMeDauO",
        "outputId": "12dabc33-26d4-4562-c7d4-4cf0b63e8a0e"
      },
      "source": [
        "arr1.reshape(5,-1)"
      ],
      "execution_count": 39,
      "outputs": [
        {
          "output_type": "execute_result",
          "data": {
            "text/plain": [
              "array([[ 1,  2],\n",
              "       [ 3,  4],\n",
              "       [ 5,  6],\n",
              "       [ 7,  8],\n",
              "       [ 9, 10]])"
            ]
          },
          "metadata": {},
          "execution_count": 39
        }
      ]
    },
    {
      "cell_type": "code",
      "metadata": {
        "colab": {
          "base_uri": "https://localhost:8080/"
        },
        "id": "sQjRAfqIDabX",
        "outputId": "5dd47896-4bbc-4f02-b79d-02a9000ba710"
      },
      "source": [
        "arr1.reshape(-1,2)"
      ],
      "execution_count": 47,
      "outputs": [
        {
          "output_type": "execute_result",
          "data": {
            "text/plain": [
              "array([[ 1,  2],\n",
              "       [ 3,  4],\n",
              "       [ 5,  6],\n",
              "       [ 7,  8],\n",
              "       [ 9, 10]])"
            ]
          },
          "metadata": {},
          "execution_count": 47
        }
      ]
    },
    {
      "cell_type": "code",
      "metadata": {
        "colab": {
          "base_uri": "https://localhost:8080/"
        },
        "id": "wyBF9kBLC-Qj",
        "outputId": "f33de6ac-46a4-43b8-af3b-7034ca9e95ec"
      },
      "source": [
        "arr1.reshape(-1,5)"
      ],
      "execution_count": 37,
      "outputs": [
        {
          "output_type": "execute_result",
          "data": {
            "text/plain": [
              "array([[ 1,  2,  3,  4,  5],\n",
              "       [ 6,  7,  8,  9, 10]])"
            ]
          },
          "metadata": {},
          "execution_count": 37
        }
      ]
    },
    {
      "cell_type": "markdown",
      "metadata": {
        "id": "L5KuU7dVD7gf"
      },
      "source": [
        "##Transpose\n",
        "Transposing is a common operation in linear algebra where the column and row indices of each element are swapped"
      ]
    },
    {
      "cell_type": "code",
      "metadata": {
        "colab": {
          "base_uri": "https://localhost:8080/"
        },
        "id": "nJNBnKD-DMEe",
        "outputId": "8720569b-bb49-431c-c6ce-7dc95683043e"
      },
      "source": [
        "arr1_2d"
      ],
      "execution_count": 48,
      "outputs": [
        {
          "output_type": "execute_result",
          "data": {
            "text/plain": [
              "array([[ 1,  2,  3,  4,  5],\n",
              "       [ 6,  7,  8,  9, 10]])"
            ]
          },
          "metadata": {},
          "execution_count": 48
        }
      ]
    },
    {
      "cell_type": "code",
      "metadata": {
        "colab": {
          "base_uri": "https://localhost:8080/"
        },
        "id": "8yhlloKaDuJX",
        "outputId": "fc5952d3-d356-49b2-c381-1177d0aacf79"
      },
      "source": [
        "arr1_2d.T"
      ],
      "execution_count": 49,
      "outputs": [
        {
          "output_type": "execute_result",
          "data": {
            "text/plain": [
              "array([[ 1,  6],\n",
              "       [ 2,  7],\n",
              "       [ 3,  8],\n",
              "       [ 4,  9],\n",
              "       [ 5, 10]])"
            ]
          },
          "metadata": {},
          "execution_count": 49
        }
      ]
    },
    {
      "cell_type": "markdown",
      "metadata": {
        "id": "m_ogyF9DEKSc"
      },
      "source": [
        "##Flatten a Matrix\n",
        "flatten() is a simple method to transform a matrix into a one-dimensional array."
      ]
    },
    {
      "cell_type": "code",
      "metadata": {
        "colab": {
          "base_uri": "https://localhost:8080/"
        },
        "id": "KZfXvnESEFx8",
        "outputId": "a098f5ba-8f55-41d7-c914-1f2f332916a7"
      },
      "source": [
        "arr1_2d"
      ],
      "execution_count": 50,
      "outputs": [
        {
          "output_type": "execute_result",
          "data": {
            "text/plain": [
              "array([[ 1,  2,  3,  4,  5],\n",
              "       [ 6,  7,  8,  9, 10]])"
            ]
          },
          "metadata": {},
          "execution_count": 50
        }
      ]
    },
    {
      "cell_type": "code",
      "metadata": {
        "colab": {
          "base_uri": "https://localhost:8080/"
        },
        "id": "tpitpsOsEP6A",
        "outputId": "13799144-e129-4c0f-c0d0-583100ad90d3"
      },
      "source": [
        "arr1_2d.flatten()"
      ],
      "execution_count": 51,
      "outputs": [
        {
          "output_type": "execute_result",
          "data": {
            "text/plain": [
              "array([ 1,  2,  3,  4,  5,  6,  7,  8,  9, 10])"
            ]
          },
          "metadata": {},
          "execution_count": 51
        }
      ]
    },
    {
      "cell_type": "markdown",
      "metadata": {
        "id": "XEgDufAEEWlh"
      },
      "source": [
        "##Resize a Matrix\n",
        "resize(arr, new_shape) function returns a new array with the specified shape.\n",
        "If the new array is larger than the original array, then the new array is filled with repeated copies of arr."
      ]
    },
    {
      "cell_type": "code",
      "metadata": {
        "colab": {
          "base_uri": "https://localhost:8080/"
        },
        "id": "fBZCXF7dEtHe",
        "outputId": "ee6f0dfe-6692-4288-c058-7c9b6aa59622"
      },
      "source": [
        "arr1_2d"
      ],
      "execution_count": 53,
      "outputs": [
        {
          "output_type": "execute_result",
          "data": {
            "text/plain": [
              "array([[ 1,  2,  3,  4,  5],\n",
              "       [ 6,  7,  8,  9, 10]])"
            ]
          },
          "metadata": {},
          "execution_count": 53
        }
      ]
    },
    {
      "cell_type": "code",
      "metadata": {
        "colab": {
          "base_uri": "https://localhost:8080/"
        },
        "id": "jnrywOQ4ETBV",
        "outputId": "a01d4f23-775b-4e9d-ae63-5eaa1e997205"
      },
      "source": [
        "# Resize arr1_2d to 3 rows and 4 columns\n",
        "resize_arr = np.resize(arr1_2d,(3,4))\n",
        "resize_arr"
      ],
      "execution_count": 52,
      "outputs": [
        {
          "output_type": "execute_result",
          "data": {
            "text/plain": [
              "array([[ 1,  2,  3,  4],\n",
              "       [ 5,  6,  7,  8],\n",
              "       [ 9, 10,  1,  2]])"
            ]
          },
          "metadata": {},
          "execution_count": 52
        }
      ]
    },
    {
      "cell_type": "markdown",
      "metadata": {
        "id": "VuMi6rUQFhac"
      },
      "source": [
        "##Convert Array to List and vice versa"
      ]
    },
    {
      "cell_type": "code",
      "metadata": {
        "colab": {
          "base_uri": "https://localhost:8080/",
          "height": 178
        },
        "id": "DH6twK35FhKs",
        "outputId": "5f4db695-89ac-4b46-e5ba-e86b6ae04a97"
      },
      "source": [
        "my_list = [1,2,3,4]\n",
        "print(my_list/4)"
      ],
      "execution_count": 57,
      "outputs": [
        {
          "output_type": "error",
          "ename": "TypeError",
          "evalue": "ignored",
          "traceback": [
            "\u001b[0;31m---------------------------------------------------------------------------\u001b[0m",
            "\u001b[0;31mTypeError\u001b[0m                                 Traceback (most recent call last)",
            "\u001b[0;32m<ipython-input-57-40134bad68ee>\u001b[0m in \u001b[0;36m<module>\u001b[0;34m()\u001b[0m\n\u001b[1;32m      1\u001b[0m \u001b[0mmy_list\u001b[0m \u001b[0;34m=\u001b[0m \u001b[0;34m[\u001b[0m\u001b[0;36m1\u001b[0m\u001b[0;34m,\u001b[0m\u001b[0;36m2\u001b[0m\u001b[0;34m,\u001b[0m\u001b[0;36m3\u001b[0m\u001b[0;34m,\u001b[0m\u001b[0;36m4\u001b[0m\u001b[0;34m]\u001b[0m\u001b[0;34m\u001b[0m\u001b[0;34m\u001b[0m\u001b[0m\n\u001b[0;32m----> 2\u001b[0;31m \u001b[0mprint\u001b[0m\u001b[0;34m(\u001b[0m\u001b[0mmy_list\u001b[0m\u001b[0;34m/\u001b[0m\u001b[0;36m4\u001b[0m\u001b[0;34m)\u001b[0m\u001b[0;34m\u001b[0m\u001b[0;34m\u001b[0m\u001b[0m\n\u001b[0m",
            "\u001b[0;31mTypeError\u001b[0m: unsupported operand type(s) for /: 'list' and 'int'"
          ]
        }
      ]
    },
    {
      "cell_type": "code",
      "metadata": {
        "colab": {
          "base_uri": "https://localhost:8080/"
        },
        "id": "vxKs5OFBErky",
        "outputId": "a62f38de-6a59-4d99-9175-a04e744145a1"
      },
      "source": [
        "my_array = np.array(my_list)\n",
        "print(my_array/4)"
      ],
      "execution_count": 58,
      "outputs": [
        {
          "output_type": "stream",
          "name": "stdout",
          "text": [
            "[0.25 0.5  0.75 1.  ]\n"
          ]
        }
      ]
    },
    {
      "cell_type": "markdown",
      "metadata": {
        "id": "IUuZR5aRGFyT"
      },
      "source": [
        "Arrays need to be declared whereas lists do not need declaration because they are a part of Python’s syntax. This is the reason lists are more often used than arrays. But in case of performing some arithmetic function to our list, we should go with arrays instead.\n",
        "\n",
        "In case we want to store a large amount of data, we should consider arrays because they can store data very compactly and efficiently."
      ]
    },
    {
      "cell_type": "code",
      "metadata": {
        "colab": {
          "base_uri": "https://localhost:8080/"
        },
        "id": "Z4rJbYwnE9Wr",
        "outputId": "1ac1a942-331d-4a44-c011-0482f53fc442"
      },
      "source": [
        "arr = np.array([(1,2,3),(4,5,6)])\n",
        "arr"
      ],
      "execution_count": 61,
      "outputs": [
        {
          "output_type": "execute_result",
          "data": {
            "text/plain": [
              "array([[1, 2, 3],\n",
              "       [4, 5, 6]])"
            ]
          },
          "metadata": {},
          "execution_count": 61
        }
      ]
    },
    {
      "cell_type": "code",
      "metadata": {
        "colab": {
          "base_uri": "https://localhost:8080/"
        },
        "id": "sJpSmG8YGOdz",
        "outputId": "f26d2dd5-1cbf-49cf-b974-34337a320253"
      },
      "source": [
        "arr_to_list = arr.tolist()  #convert array to python list\n",
        "arr_to_list"
      ],
      "execution_count": 63,
      "outputs": [
        {
          "output_type": "execute_result",
          "data": {
            "text/plain": [
              "[[1, 2, 3], [4, 5, 6]]"
            ]
          },
          "metadata": {},
          "execution_count": 63
        }
      ]
    },
    {
      "cell_type": "code",
      "metadata": {
        "colab": {
          "base_uri": "https://localhost:8080/"
        },
        "id": "PIIfhAVhGeCj",
        "outputId": "50e2c5d3-e183-4f4e-e28b-8e8caf374be9"
      },
      "source": [
        "np.array(arr_to_list)  #convert list to array\n"
      ],
      "execution_count": 64,
      "outputs": [
        {
          "output_type": "execute_result",
          "data": {
            "text/plain": [
              "array([[1, 2, 3],\n",
              "       [4, 5, 6]])"
            ]
          },
          "metadata": {},
          "execution_count": 64
        }
      ]
    },
    {
      "cell_type": "markdown",
      "metadata": {
        "id": "0crNziosHUkr"
      },
      "source": [
        "Other useful functions to describe the array:"
      ]
    },
    {
      "cell_type": "code",
      "metadata": {
        "colab": {
          "base_uri": "https://localhost:8080/"
        },
        "id": "FbQ86KDOGmwu",
        "outputId": "53ad03af-b26c-4d5c-877e-c0678a9c76f1"
      },
      "source": [
        "print(arr.size) # Return number of elements in arr\n",
        "print(len(arr) )#Length of arrayarr.ndim # Number of array dimension\n",
        "print(arr.dtype )# Return type of elements in arr\n",
        "print(arr.dtype.name) # Name of data type\n",
        "print(arr.astype(int)) # Convert an array to a different type\n",
        "print(np.info(np.eye) )# View documentation for np.eye\n",
        "\n"
      ],
      "execution_count": 67,
      "outputs": [
        {
          "output_type": "stream",
          "name": "stdout",
          "text": [
            "6\n",
            "2\n",
            "int64\n",
            "int64\n",
            "[[1 2 3]\n",
            " [4 5 6]]\n",
            "None\n"
          ]
        }
      ]
    },
    {
      "cell_type": "markdown",
      "metadata": {
        "id": "XAo8k96lH1Tz"
      },
      "source": [
        "##3. Numerical Operations on Array"
      ]
    },
    {
      "cell_type": "markdown",
      "metadata": {
        "id": "_oioUliHH9r5"
      },
      "source": [
        "Trace (linear algebra)\n",
        "The trace is the sum of all the diagonal elements of a square matrix."
      ]
    },
    {
      "cell_type": "code",
      "metadata": {
        "colab": {
          "base_uri": "https://localhost:8080/"
        },
        "id": "5L3T7kOMHXGc",
        "outputId": "0e0f0a48-8f1f-4659-ce4a-e2c2b392b9c1"
      },
      "source": [
        "arr = np.array([(2,0,0),(0,2,0),(0,0,2)])\n",
        "arr"
      ],
      "execution_count": 68,
      "outputs": [
        {
          "output_type": "execute_result",
          "data": {
            "text/plain": [
              "array([[2, 0, 0],\n",
              "       [0, 2, 0],\n",
              "       [0, 0, 2]])"
            ]
          },
          "metadata": {},
          "execution_count": 68
        }
      ]
    },
    {
      "cell_type": "code",
      "metadata": {
        "colab": {
          "base_uri": "https://localhost:8080/"
        },
        "id": "MK0AeUUHIG7a",
        "outputId": "fb36e9e4-5c28-4442-d45b-c9d450ae836d"
      },
      "source": [
        "arr.shape"
      ],
      "execution_count": 70,
      "outputs": [
        {
          "output_type": "execute_result",
          "data": {
            "text/plain": [
              "(3, 3)"
            ]
          },
          "metadata": {},
          "execution_count": 70
        }
      ]
    },
    {
      "cell_type": "code",
      "metadata": {
        "colab": {
          "base_uri": "https://localhost:8080/"
        },
        "id": "t2egExq7IJiI",
        "outputId": "652f4484-5d60-4efd-9d50-8825bbb786f9"
      },
      "source": [
        "np.trace(arr)"
      ],
      "execution_count": 72,
      "outputs": [
        {
          "output_type": "execute_result",
          "data": {
            "text/plain": [
              "6"
            ]
          },
          "metadata": {},
          "execution_count": 72
        }
      ]
    },
    {
      "cell_type": "markdown",
      "metadata": {
        "id": "QvJ0NQ-9Id5M"
      },
      "source": [
        "##Determinant\n",
        "Determinants a matrix is a special number that can be calculated from a square matrix. It can sometimes be useful to calculate the determinant of a matrix. NumPy makes this easy with det()."
      ]
    },
    {
      "cell_type": "markdown",
      "metadata": {
        "id": "AHtNtlPeI4tC"
      },
      "source": [
        "A Matrix is an array of numbers:\n",
        "\n",
        "3    8\n",
        "\n",
        "4    6\n",
        "\n",
        "A Matrix\n",
        "(This one has 2 Rows and 2 Columns)\n",
        "\n",
        "The determinant of that matrix is (calculations are explained later):\n",
        "\n",
        "3×6 − 8×4 = 18 − 32 = −14"
      ]
    },
    {
      "cell_type": "markdown",
      "metadata": {
        "id": "94KYDpYsJG3f"
      },
      "source": [
        "symbol : |A| means the determinant of the matrix A"
      ]
    },
    {
      "cell_type": "code",
      "metadata": {
        "colab": {
          "base_uri": "https://localhost:8080/"
        },
        "id": "vro0eO42IRVw",
        "outputId": "51a78407-ad8a-4447-b087-35550d7c9813"
      },
      "source": [
        "matrix = np.array([(1,2,3),(4,5,6),(7,8,9)])\n",
        "#return deteminant of matrix\n",
        "np.linalg.det(matrix)  #linalg means  linear algebra toolset"
      ],
      "execution_count": 75,
      "outputs": [
        {
          "output_type": "execute_result",
          "data": {
            "text/plain": [
              "0.0"
            ]
          },
          "metadata": {},
          "execution_count": 75
        }
      ]
    },
    {
      "cell_type": "markdown",
      "metadata": {
        "id": "x-idf_Y5Jqxo"
      },
      "source": [
        "##Find Eigenvalues and Eigenvectors"
      ]
    },
    {
      "cell_type": "markdown",
      "metadata": {
        "id": "JlGiWq8DJzFH"
      },
      "source": [
        "In NumPy’s linear algebra toolset, eig lets us calculate the eigenvalues, and eigenvectors of any square matrix"
      ]
    },
    {
      "cell_type": "code",
      "metadata": {
        "colab": {
          "base_uri": "https://localhost:8080/"
        },
        "id": "fatC4pzgJbuR",
        "outputId": "22ec6d63-13d4-4921-fcaa-ac952428384f"
      },
      "source": [
        "matrix = np.array([(0,1,2),(3,4,5),(6,7,8)])\n",
        "\n",
        "#calculate eigenvalue and eigenvectors\n",
        "eigenvalues , eigenvectors = np.linalg.eig(matrix)\n",
        "print(eigenvalues)\n",
        "print()\n",
        "print(eigenvectors)"
      ],
      "execution_count": 78,
      "outputs": [
        {
          "output_type": "stream",
          "name": "stdout",
          "text": [
            "[ 1.33484692e+01 -1.34846923e+00 -1.15433316e-15]\n",
            "\n",
            "[[ 0.16476382  0.79969966  0.40824829]\n",
            " [ 0.50577448  0.10420579 -0.81649658]\n",
            " [ 0.84678513 -0.59128809  0.40824829]]\n"
          ]
        }
      ]
    },
    {
      "cell_type": "markdown",
      "metadata": {
        "id": "N2jZ0IdBKyqm"
      },
      "source": [
        "##Scalar Operations\n",
        "When we add, subtract, multiply or divide a matrix by a number, this is called the scalar operation. During scalar operations, the scalar value is applied to each element in the array, therefore, the function returns a new matrix with the same number of rows and columns."
      ]
    },
    {
      "cell_type": "code",
      "metadata": {
        "colab": {
          "base_uri": "https://localhost:8080/"
        },
        "id": "SzovUHNHKdOR",
        "outputId": "8ffa579d-188d-4504-98b4-04bf6da86177"
      },
      "source": [
        "new_arr = np.arange(1,10)\n",
        "new_arr"
      ],
      "execution_count": 80,
      "outputs": [
        {
          "output_type": "execute_result",
          "data": {
            "text/plain": [
              "array([1, 2, 3, 4, 5, 6, 7, 8, 9])"
            ]
          },
          "metadata": {},
          "execution_count": 80
        }
      ]
    },
    {
      "cell_type": "code",
      "metadata": {
        "colab": {
          "base_uri": "https://localhost:8080/"
        },
        "id": "7KZMJVbaK3av",
        "outputId": "9b7bd015-abcf-4e48-f6e6-031234627889"
      },
      "source": [
        "#add 1 to each array element\n",
        "np.add(new_arr,1)"
      ],
      "execution_count": 81,
      "outputs": [
        {
          "output_type": "execute_result",
          "data": {
            "text/plain": [
              "array([ 2,  3,  4,  5,  6,  7,  8,  9, 10])"
            ]
          },
          "metadata": {},
          "execution_count": 81
        }
      ]
    },
    {
      "cell_type": "markdown",
      "metadata": {
        "id": "nZhsrqJfLHP_"
      },
      "source": [
        "Similarly, we can subtract, multiply, or divide a matrix by a number using functions below:"
      ]
    },
    {
      "cell_type": "code",
      "metadata": {
        "colab": {
          "base_uri": "https://localhost:8080/"
        },
        "id": "sbjyKYcQLER7",
        "outputId": "7d12f77c-0ae6-4326-8bdd-8b9443798720"
      },
      "source": [
        "print(np.subtract(new_arr,2)) # Subtract 2 from each array element\n",
        "print(np.multiply(new_arr,3)) # Multiply each array element by 3\n",
        "print(np.divide(new_arr,4) )# Divide each array element by 4 (returns np.nan for division by zero)\n",
        "print(np.power(new_arr,5) )# Raise each array element to the 5th power"
      ],
      "execution_count": 84,
      "outputs": [
        {
          "output_type": "stream",
          "name": "stdout",
          "text": [
            "[-1  0  1  2  3  4  5  6  7]\n",
            "[ 3  6  9 12 15 18 21 24 27]\n",
            "[0.25 0.5  0.75 1.   1.25 1.5  1.75 2.   2.25]\n",
            "[    1    32   243  1024  3125  7776 16807 32768 59049]\n"
          ]
        }
      ]
    },
    {
      "cell_type": "markdown",
      "metadata": {
        "id": "YCLGJARoLt4Z"
      },
      "source": [
        "##Matrics Operations\n",
        "A matrix can only be added to (or subtracted from) another matrix if the two matrices have the same dimensions, that is, they must have the same number of rows and columns.\n",
        "When multiplying matrices, we take rows of the first matrix and multiply them by the corresponding columns of the second matrix.\n",
        "\n",
        "Note: Remember “rows first, columns second.”"
      ]
    },
    {
      "cell_type": "code",
      "metadata": {
        "id": "IGVg2EK-LXj4"
      },
      "source": [
        "# np.add(arr1,arr2) # Elementwise add arr2 to arr1\n",
        "# np.subtract(arr1,arr2) # Elementwise subtract arr2 from arr1\n",
        "# np.multiply(arr1,arr2) # Elementwise multiply arr1 by arr2\n",
        "# np.divide(arr1,arr2) # Elementwise divide arr1 by arr2\n",
        "# np.power(arr1,arr2) # Elementwise raise arr1 raised to the power of arr2\n",
        "# np.array_equal(arr1,arr2) # Returns True if the arrays have the same elements and shape"
      ],
      "execution_count": 85,
      "outputs": []
    },
    {
      "cell_type": "markdown",
      "metadata": {
        "id": "f2WVgwyCMEXy"
      },
      "source": [
        "###Other math operations:"
      ]
    },
    {
      "cell_type": "code",
      "metadata": {
        "colab": {
          "base_uri": "https://localhost:8080/"
        },
        "id": "mRjkG3ItMASr",
        "outputId": "785d0a1d-96c2-49a7-f7b7-eba768c3c636"
      },
      "source": [
        "print(np.sqrt(new_arr)) # Square root of each element in the array\n",
        "print(np.sin(new_arr) )# Sine of each element in the array\n",
        "print(np.log(new_arr) )# Natural log of each element in the array\n",
        "print(np.abs(new_arr) )# Absolute value of each element in the array\n",
        "print(np.ceil(new_arr)) # Rounds up to the nearest int\n",
        "print(np.floor(new_arr)) # Rounds down to the nearest int\n",
        "print(np.round(new_arr)) # Rounds to the nearest int"
      ],
      "execution_count": 87,
      "outputs": [
        {
          "output_type": "stream",
          "name": "stdout",
          "text": [
            "[1.         1.41421356 1.73205081 2.         2.23606798 2.44948974\n",
            " 2.64575131 2.82842712 3.        ]\n",
            "[ 0.84147098  0.90929743  0.14112001 -0.7568025  -0.95892427 -0.2794155\n",
            "  0.6569866   0.98935825  0.41211849]\n",
            "[0.         0.69314718 1.09861229 1.38629436 1.60943791 1.79175947\n",
            " 1.94591015 2.07944154 2.19722458]\n",
            "[1 2 3 4 5 6 7 8 9]\n",
            "[1. 2. 3. 4. 5. 6. 7. 8. 9.]\n",
            "[1. 2. 3. 4. 5. 6. 7. 8. 9.]\n",
            "[1 2 3 4 5 6 7 8 9]\n"
          ]
        }
      ]
    },
    {
      "cell_type": "markdown",
      "metadata": {
        "id": "LxePcTv8MjJn"
      },
      "source": [
        "## 4. Array Manipulation Routines"
      ]
    },
    {
      "cell_type": "markdown",
      "metadata": {
        "id": "y72-eVgJN_M8"
      },
      "source": [
        "###Adding/removing Elements\n",
        "append() function is used to append values to the end of a given array."
      ]
    },
    {
      "cell_type": "code",
      "metadata": {
        "colab": {
          "base_uri": "https://localhost:8080/"
        },
        "id": "fRU7Czc7MLH9",
        "outputId": "a70c728c-a0fd-432a-d5d3-d82f267914c6"
      },
      "source": [
        "np.append([0,3,2],[[3,5,7],[5,3,9]])\n"
      ],
      "execution_count": 90,
      "outputs": [
        {
          "output_type": "execute_result",
          "data": {
            "text/plain": [
              "array([0, 3, 2, 3, 5, 7, 5, 3, 9])"
            ]
          },
          "metadata": {},
          "execution_count": 90
        }
      ]
    },
    {
      "cell_type": "code",
      "metadata": {
        "colab": {
          "base_uri": "https://localhost:8080/"
        },
        "id": "5qAb03ScOzDQ",
        "outputId": "d9bf7d96-eb38-4519-ffa9-387e9670c6a0"
      },
      "source": [
        "np.append([[0,1,2],[3,4,5]],[[7,8,9]],axis=0)"
      ],
      "execution_count": 94,
      "outputs": [
        {
          "output_type": "execute_result",
          "data": {
            "text/plain": [
              "array([[0, 1, 2],\n",
              "       [3, 4, 5],\n",
              "       [7, 8, 9]])"
            ]
          },
          "metadata": {},
          "execution_count": 94
        }
      ]
    },
    {
      "cell_type": "markdown",
      "metadata": {
        "id": "rIO4zlhcQAs5"
      },
      "source": [
        "The axis along which values are appended. If the axis is not given, both array and values are flattened before use."
      ]
    },
    {
      "cell_type": "markdown",
      "metadata": {
        "id": "2cDvlyaHQGHA"
      },
      "source": [
        "insert(): is used to insert the element before the given index of the array."
      ]
    },
    {
      "cell_type": "code",
      "metadata": {
        "colab": {
          "base_uri": "https://localhost:8080/"
        },
        "id": "A2A3FLypPk3e",
        "outputId": "34cb4081-a981-4f95-b10c-b5786611b371"
      },
      "source": [
        "arr = np.arange(1,6)\n",
        "print(arr)\n",
        "np.insert(arr,2,10) #insert 10 into arr before index 2 "
      ],
      "execution_count": 97,
      "outputs": [
        {
          "output_type": "stream",
          "name": "stdout",
          "text": [
            "[1 2 3 4 5]\n"
          ]
        },
        {
          "output_type": "execute_result",
          "data": {
            "text/plain": [
              "array([ 1,  2, 10,  3,  4,  5])"
            ]
          },
          "metadata": {},
          "execution_count": 97
        }
      ]
    },
    {
      "cell_type": "markdown",
      "metadata": {
        "id": "BKkd5bjLQ7O4"
      },
      "source": [
        "delete() we can delete any row and column from the ndarray"
      ]
    },
    {
      "cell_type": "code",
      "metadata": {
        "colab": {
          "base_uri": "https://localhost:8080/"
        },
        "id": "mjdyWpzPQJ32",
        "outputId": "f13d3bd3-5c71-4dbb-a861-32f6ba33d79c"
      },
      "source": [
        "arr = np.arange(12).reshape(3,4)\n",
        "arr"
      ],
      "execution_count": 99,
      "outputs": [
        {
          "output_type": "execute_result",
          "data": {
            "text/plain": [
              "array([[ 0,  1,  2,  3],\n",
              "       [ 4,  5,  6,  7],\n",
              "       [ 8,  9, 10, 11]])"
            ]
          },
          "metadata": {},
          "execution_count": 99
        }
      ]
    },
    {
      "cell_type": "code",
      "metadata": {
        "colab": {
          "base_uri": "https://localhost:8080/"
        },
        "id": "8oJN3YYBRDSE",
        "outputId": "061e501f-1995-487b-999f-ca2caf93887d"
      },
      "source": [
        "np.delete(arr,2,axis=0)   #Delete row on index 2 of arr"
      ],
      "execution_count": 100,
      "outputs": [
        {
          "output_type": "execute_result",
          "data": {
            "text/plain": [
              "array([[0, 1, 2, 3],\n",
              "       [4, 5, 6, 7]])"
            ]
          },
          "metadata": {},
          "execution_count": 100
        }
      ]
    },
    {
      "cell_type": "code",
      "metadata": {
        "colab": {
          "base_uri": "https://localhost:8080/"
        },
        "id": "4RjTDHiFROSs",
        "outputId": "134a4b8f-cc0c-4d5c-af9f-820a2073bfdd"
      },
      "source": [
        "np.delete(arr,3,axis=1)  #Delete column in index 3 of arr"
      ],
      "execution_count": 101,
      "outputs": [
        {
          "output_type": "execute_result",
          "data": {
            "text/plain": [
              "array([[ 0,  1,  2],\n",
              "       [ 4,  5,  6],\n",
              "       [ 8,  9, 10]])"
            ]
          },
          "metadata": {},
          "execution_count": 101
        }
      ]
    },
    {
      "cell_type": "markdown",
      "metadata": {
        "id": "hA8ZjfwmRc4l"
      },
      "source": [
        "sort() function can be used to sort the list in both ascending and descending order."
      ]
    },
    {
      "cell_type": "code",
      "metadata": {
        "colab": {
          "base_uri": "https://localhost:8080/"
        },
        "id": "zyzhKP2zRY9i",
        "outputId": "cc636600-11bf-4629-929f-6b4ffdd964e0"
      },
      "source": [
        "oned_arr = np.array([3,8,5,6,1])\n",
        "np.sort(oned_arr)"
      ],
      "execution_count": 102,
      "outputs": [
        {
          "output_type": "execute_result",
          "data": {
            "text/plain": [
              "array([1, 3, 5, 6, 8])"
            ]
          },
          "metadata": {},
          "execution_count": 102
        }
      ]
    },
    {
      "cell_type": "code",
      "metadata": {
        "colab": {
          "base_uri": "https://localhost:8080/"
        },
        "id": "3DnHbgJZRmxW",
        "outputId": "e2665819-e637-4a7f-94c5-a2c30bee128b"
      },
      "source": [
        "# sort each column of arr\n",
        "arr = np.array([[5,4,6,8],\n",
        "                [8,9,4,3],\n",
        "                [0,7,5,2]])\n",
        "np.sort(arr,axis=0)"
      ],
      "execution_count": 106,
      "outputs": [
        {
          "output_type": "execute_result",
          "data": {
            "text/plain": [
              "array([[0, 4, 4, 2],\n",
              "       [5, 7, 5, 3],\n",
              "       [8, 9, 6, 8]])"
            ]
          },
          "metadata": {},
          "execution_count": 106
        }
      ]
    },
    {
      "cell_type": "code",
      "metadata": {
        "colab": {
          "base_uri": "https://localhost:8080/"
        },
        "id": "htyYr1SZR2BM",
        "outputId": "a73a00d9-de13-470b-b824-1bb8dd84c06b"
      },
      "source": [
        "# sort each row of X\n",
        "np.sort(arr, axis=1)"
      ],
      "execution_count": 107,
      "outputs": [
        {
          "output_type": "execute_result",
          "data": {
            "text/plain": [
              "array([[4, 5, 6, 8],\n",
              "       [3, 4, 8, 9],\n",
              "       [0, 2, 5, 7]])"
            ]
          },
          "metadata": {},
          "execution_count": 107
        }
      ]
    },
    {
      "cell_type": "markdown",
      "metadata": {
        "id": "K2jOdtQUShYS"
      },
      "source": [
        "Join NumPy Arrays\n",
        "Joining means putting contents of two or more arrays in a single array."
      ]
    },
    {
      "cell_type": "code",
      "metadata": {
        "colab": {
          "base_uri": "https://localhost:8080/"
        },
        "id": "ylE3b6MASPQc",
        "outputId": "9bae66b6-1e67-4d1c-a0ec-e86ceb0a81c0"
      },
      "source": [
        "# Adds arr2 as rows to the end of arr1\n",
        "arr1 = np.array([1, 2, 3])\n",
        "arr2 = np.array([4, 5, 6])\n",
        "arr = np.concatenate((arr1, arr2), axis=0)\n",
        "arr"
      ],
      "execution_count": 109,
      "outputs": [
        {
          "output_type": "execute_result",
          "data": {
            "text/plain": [
              "array([1, 2, 3, 4, 5, 6])"
            ]
          },
          "metadata": {},
          "execution_count": 109
        }
      ]
    },
    {
      "cell_type": "code",
      "metadata": {
        "colab": {
          "base_uri": "https://localhost:8080/"
        },
        "id": "KDFlTFPsSk94",
        "outputId": "c7685423-6e4d-4cb3-dcc1-38d4a9cdcdf2"
      },
      "source": [
        "# Adds arr2 as columns to end of arr1\n",
        "arr1 = np.array([[1, 2, 3],[4, 5, 6]])\n",
        "arr2 = np.array([[7, 8, 9],[10, 11, 12]])\n",
        "arr = np.concatenate((arr1,arr2),axis=1)\n",
        "arr"
      ],
      "execution_count": 111,
      "outputs": [
        {
          "output_type": "execute_result",
          "data": {
            "text/plain": [
              "array([[ 1,  2,  3,  7,  8,  9],\n",
              "       [ 4,  5,  6, 10, 11, 12]])"
            ]
          },
          "metadata": {},
          "execution_count": 111
        }
      ]
    },
    {
      "cell_type": "markdown",
      "metadata": {
        "id": "BQ6zzLucTSHb"
      },
      "source": [
        "## Split NumPy Arrays"
      ]
    },
    {
      "cell_type": "code",
      "metadata": {
        "colab": {
          "base_uri": "https://localhost:8080/"
        },
        "id": "DuPs5CRGTChh",
        "outputId": "05bbca80-5cf2-4cd4-a271-269fb1dd4584"
      },
      "source": [
        "# Splits arr into 4 sub_arrays\n",
        "arr = np.array([1,2,3,4,5,6])\n",
        "new_arr = np.array_split(arr ,4)\n",
        "new_arr"
      ],
      "execution_count": 112,
      "outputs": [
        {
          "output_type": "execute_result",
          "data": {
            "text/plain": [
              "[array([1, 2]), array([3, 4]), array([5]), array([6])]"
            ]
          },
          "metadata": {},
          "execution_count": 112
        }
      ]
    },
    {
      "cell_type": "code",
      "metadata": {
        "colab": {
          "base_uri": "https://localhost:8080/"
        },
        "id": "QZlLTCkETjx8",
        "outputId": "5872562d-110b-4bc6-cfb6-587f3475c5ba"
      },
      "source": [
        "#spilt arr horizontally on the 2nd index\n",
        "new_arr = np.hsplit(arr,2)\n",
        "new_arr"
      ],
      "execution_count": 114,
      "outputs": [
        {
          "output_type": "execute_result",
          "data": {
            "text/plain": [
              "[array([1, 2, 3]), array([4, 5, 6])]"
            ]
          },
          "metadata": {},
          "execution_count": 114
        }
      ]
    },
    {
      "cell_type": "markdown",
      "metadata": {
        "id": "5X_KW6PcUHto"
      },
      "source": [
        "##Select element(s)\n",
        "NumPy offers a wide variety of methods for indexing and slicing elements or groups of elements in arrays."
      ]
    },
    {
      "cell_type": "markdown",
      "metadata": {
        "id": "iiKv2nVWUQBb"
      },
      "source": [
        "Suppose we have two arrays, one contains user_name, and the other stores the number of articles that the person has read."
      ]
    },
    {
      "cell_type": "code",
      "metadata": {
        "colab": {
          "base_uri": "https://localhost:8080/",
          "height": 35
        },
        "id": "sOLwerl0UAEt",
        "outputId": "6fcf7d37-3726-4258-946e-5455ee1ce937"
      },
      "source": [
        "user_name = np.array(['Katie','Bob','Scott','Liz','Sam'])\n",
        "articles = np.array([100, 38, 91, 7, 25])\n",
        "user_name[4] # Return the element at index 4"
      ],
      "execution_count": 115,
      "outputs": [
        {
          "output_type": "execute_result",
          "data": {
            "application/vnd.google.colaboratory.intrinsic+json": {
              "type": "string"
            },
            "text/plain": [
              "'Sam'"
            ]
          },
          "metadata": {},
          "execution_count": 115
        }
      ]
    },
    {
      "cell_type": "code",
      "metadata": {
        "colab": {
          "base_uri": "https://localhost:8080/"
        },
        "id": "65_yrzX7UTk4",
        "outputId": "7a9bd0a1-0446-4a61-bdce-0b993c2402ce"
      },
      "source": [
        "articles[3] = 17 # Assign array element on index 3 the value 17\n",
        "articles"
      ],
      "execution_count": 118,
      "outputs": [
        {
          "output_type": "execute_result",
          "data": {
            "text/plain": [
              "array([100,  38,  91,  17,  25])"
            ]
          },
          "metadata": {},
          "execution_count": 118
        }
      ]
    },
    {
      "cell_type": "code",
      "metadata": {
        "colab": {
          "base_uri": "https://localhost:8080/"
        },
        "id": "gpsOoOjjUa3r",
        "outputId": "bc4f3ebb-7b6b-4d78-c1f5-537dd87fde62"
      },
      "source": [
        "user_name[0:3] # Return the elements at indices 0,1,2"
      ],
      "execution_count": 120,
      "outputs": [
        {
          "output_type": "execute_result",
          "data": {
            "text/plain": [
              "array(['Katie', 'Bob', 'Scott'], dtype='<U5')"
            ]
          },
          "metadata": {},
          "execution_count": 120
        }
      ]
    },
    {
      "cell_type": "code",
      "metadata": {
        "colab": {
          "base_uri": "https://localhost:8080/"
        },
        "id": "1JcgXNyTUpmS",
        "outputId": "dd09da1e-8cf9-4d1a-dc7e-d7a1506e2d17"
      },
      "source": [
        "user_name[:2] # Return the elements at indices 0,1"
      ],
      "execution_count": 121,
      "outputs": [
        {
          "output_type": "execute_result",
          "data": {
            "text/plain": [
              "array(['Katie', 'Bob'], dtype='<U5')"
            ]
          },
          "metadata": {},
          "execution_count": 121
        }
      ]
    },
    {
      "cell_type": "code",
      "metadata": {
        "colab": {
          "base_uri": "https://localhost:8080/"
        },
        "id": "IzWLio5JUvsq",
        "outputId": "10a131bc-da33-405c-fbb8-a68059707df2"
      },
      "source": [
        "articles<50 # Return an array with boolean values"
      ],
      "execution_count": 122,
      "outputs": [
        {
          "output_type": "execute_result",
          "data": {
            "text/plain": [
              "array([False,  True, False,  True,  True])"
            ]
          },
          "metadata": {},
          "execution_count": 122
        }
      ]
    },
    {
      "cell_type": "code",
      "metadata": {
        "colab": {
          "base_uri": "https://localhost:8080/"
        },
        "id": "NB-lOvHjUzze",
        "outputId": "81d1c018-c84d-44fd-a34a-226421197847"
      },
      "source": [
        "articles[articles < 50] # Return the element values"
      ],
      "execution_count": 124,
      "outputs": [
        {
          "output_type": "execute_result",
          "data": {
            "text/plain": [
              "array([38, 17, 25])"
            ]
          },
          "metadata": {},
          "execution_count": 124
        }
      ]
    },
    {
      "cell_type": "code",
      "metadata": {
        "colab": {
          "base_uri": "https://localhost:8080/"
        },
        "id": "-NQmsL1_U6kc",
        "outputId": "2152aa3a-dc92-41f8-d318-bea6757cd4cf"
      },
      "source": [
        "# Return the user_name that read more than 50 articles but less than 100 articles\n",
        "user_name[(articles < 100 ) & (articles >50)]"
      ],
      "execution_count": 125,
      "outputs": [
        {
          "output_type": "execute_result",
          "data": {
            "text/plain": [
              "array(['Scott'], dtype='<U5')"
            ]
          },
          "metadata": {},
          "execution_count": 125
        }
      ]
    },
    {
      "cell_type": "markdown",
      "metadata": {
        "id": "TaGOPGPlWe5Y"
      },
      "source": [
        "##5. Statistical Operations"
      ]
    },
    {
      "cell_type": "markdown",
      "metadata": {
        "id": "sCbNndtjWk6n"
      },
      "source": [
        "Find the Maximum and Minimum Values"
      ]
    },
    {
      "cell_type": "code",
      "metadata": {
        "colab": {
          "base_uri": "https://localhost:8080/"
        },
        "id": "bXWWIkW4VBvw",
        "outputId": "aad506d1-0102-4cef-cfa5-fa0848d031c8"
      },
      "source": [
        "articles = np.array([[10, 23, 17],\n",
        "                   [41, 54, 65],\n",
        "                   [71, 18, 89]])\n",
        "# Return maximum element\n",
        "np.max(articles)"
      ],
      "execution_count": 126,
      "outputs": [
        {
          "output_type": "execute_result",
          "data": {
            "text/plain": [
              "89"
            ]
          },
          "metadata": {},
          "execution_count": 126
        }
      ]
    },
    {
      "cell_type": "code",
      "metadata": {
        "colab": {
          "base_uri": "https://localhost:8080/"
        },
        "id": "zD_qgT1_Wrfa",
        "outputId": "439bf1f1-ed1c-4361-a174-6e5a47a005c2"
      },
      "source": [
        "np.max(articles, axis=0) # Find maximum element in each column"
      ],
      "execution_count": 127,
      "outputs": [
        {
          "output_type": "execute_result",
          "data": {
            "text/plain": [
              "array([71, 54, 89])"
            ]
          },
          "metadata": {},
          "execution_count": 127
        }
      ]
    },
    {
      "cell_type": "code",
      "metadata": {
        "colab": {
          "base_uri": "https://localhost:8080/"
        },
        "id": "mAt0F9i-WyqS",
        "outputId": "31e11799-0108-4f62-c575-e8c12c9063d3"
      },
      "source": [
        "np.max(articles, axis=1) # Find maximum element in each row"
      ],
      "execution_count": 129,
      "outputs": [
        {
          "output_type": "execute_result",
          "data": {
            "text/plain": [
              "array([23, 65, 89])"
            ]
          },
          "metadata": {},
          "execution_count": 129
        }
      ]
    },
    {
      "cell_type": "markdown",
      "metadata": {
        "id": "QSRA0xsMXhWP"
      },
      "source": [
        "##Calculate the Average, Variance, and Standard Deviation\n",
        "Just like with max() and min(), we can easily get descriptive statistics about the whole matrix or do calculations along a single axix"
      ]
    },
    {
      "cell_type": "code",
      "metadata": {
        "colab": {
          "base_uri": "https://localhost:8080/"
        },
        "id": "0UIm6tzlW8uI",
        "outputId": "b711eca0-53e6-4ef1-81cd-b36aea82be9e"
      },
      "source": [
        "print(np.mean(articles,axis=0))# Return mean along specific axis\n",
        "print(articles.sum()) # Return sum of arr\n",
        "print(np.var(articles)) # Return the variance of array\n",
        "print(np.std(articles,axis=0)) # Return the standard deviation of specific axis\n",
        "print(np.corrcoef(articles)) # Return correlation coefficient of array"
      ],
      "execution_count": 137,
      "outputs": [
        {
          "output_type": "stream",
          "name": "stdout",
          "text": [
            "[40.66666667 31.66666667 57.        ]\n",
            "388\n",
            "699.8765432098766\n",
            "[24.90426113 15.92342788 29.93325909]\n",
            "[[ 1.          0.57782122 -0.68637604]\n",
            " [ 0.57782122  1.          0.19694956]\n",
            " [-0.68637604  0.19694956  1.        ]]\n"
          ]
        }
      ]
    },
    {
      "cell_type": "code",
      "metadata": {
        "id": "RzEDHdMeXwbd"
      },
      "source": [
        ""
      ],
      "execution_count": 139,
      "outputs": []
    }
  ]
}